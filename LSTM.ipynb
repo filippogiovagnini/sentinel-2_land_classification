{
 "cells": [
  {
   "cell_type": "markdown",
   "metadata": {},
   "source": [
    "### New attempt\n",
    "Old accuracy: 81,83026200325937"
   ]
  },
  {
   "cell_type": "code",
   "execution_count": 30,
   "metadata": {},
   "outputs": [],
   "source": [
    "import torch\n",
    "import torch.nn as nn\n",
    "from torch.autograd import Variable\n",
    "from torch.utils.data import DataLoader\n",
    "import pandas as pd\n",
    "from sklearn.model_selection import train_test_split\n",
    "import numpy as np\n",
    "import torch.optim as optim\n",
    "from torch.nn import functional as F"
   ]
  },
  {
   "cell_type": "code",
   "execution_count": 31,
   "metadata": {},
   "outputs": [],
   "source": [
    "batch_size = 64\n",
    "n_iters = 10000\n",
    "num_epochs = 200\n",
    "# Create CNN Model\n",
    "n_timesteps = 46\n",
    "n_outputs = 20\n",
    "\n",
    "n = 199424 # number of samples less than 199424\n",
    "train_pd = pd.read_csv('train.csv')\n",
    "\n",
    "y_np = train_pd.V1.values[:n]\n",
    "x_np = train_pd.loc[:,train_pd.columns != \"V1\"].values[:n, :]\n",
    "y_np = y_np - 1\n",
    "# y goes from 0 to 19\n",
    "\n",
    "x_train_np, x_test_np, y_train_np, y_test_np = train_test_split(x_np, y_np, test_size=0.2) \n",
    "\n",
    "x_train_tensor = torch.from_numpy(x_train_np).type(torch.FloatTensor)\n",
    "y_train_tensor = torch.from_numpy(y_train_np).type(torch.LongTensor)\n",
    "\n",
    "x_test_tensor = torch.from_numpy(x_test_np).type(torch.FloatTensor)\n",
    "y_test_tensor = torch.from_numpy(y_test_np).type(torch.LongTensor)\n",
    "\n",
    "# Pytorch train and test sets\n",
    "train = torch.utils.data.TensorDataset(x_train_tensor, y_train_tensor)\n",
    "test = torch.utils.data.TensorDataset(x_test_tensor, y_test_tensor)\n",
    "\n",
    "train_loader = DataLoader(train, batch_size = batch_size, shuffle = False)\n",
    "test_loader = DataLoader(test, batch_size = batch_size, shuffle = False)"
   ]
  },
  {
   "cell_type": "code",
   "execution_count": 32,
   "metadata": {},
   "outputs": [],
   "source": [
    "device = torch.device(\"cuda\" if torch.cuda.is_available() else \"cpu\")"
   ]
  },
  {
   "cell_type": "code",
   "execution_count": 37,
   "metadata": {},
   "outputs": [],
   "source": [
    "class LSTMClassifier(nn.Module):\n",
    "    \"\"\"Very simple implementation of LSTM-based time-series classifier.\"\"\"\n",
    "    \n",
    "    def __init__(self, input_dim, hidden_dim, layer_dim, output_dim):\n",
    "        super().__init__()\n",
    "        self.hidden_dim = hidden_dim\n",
    "        self.layer_dim = layer_dim\n",
    "        self.rnn = nn.LSTM(input_dim, hidden_dim, layer_dim, batch_first=True)\n",
    "        self.fc = nn.Linear(hidden_dim, output_dim)\n",
    "        self.batch_size = None\n",
    "        self.hidden = None\n",
    "    \n",
    "    def forward(self, x):\n",
    "        x = x.unsqueeze(1)\n",
    "        h0, c0 = self.init_hidden(x)\n",
    "        out, (hn, cn) = self.rnn(x, (h0, c0))\n",
    "        out = self.fc(out[:, -1, :])\n",
    "        return out\n",
    "    \n",
    "    def init_hidden(self, x):\n",
    "        h0 = torch.zeros(self.layer_dim, x.size(0), self.hidden_dim)\n",
    "        c0 = torch.zeros(self.layer_dim, x.size(0), self.hidden_dim)\n",
    "        return h0, c0"
   ]
  },
  {
   "cell_type": "code",
   "execution_count": null,
   "metadata": {},
   "outputs": [
    {
     "name": "stdout",
     "output_type": "stream",
     "text": [
      "Start model training\n",
      "Epoch 1 best model saved with accuracy: 67.91%\n",
      "Epoch 2 best model saved with accuracy: 72.57%\n",
      "Epoch 3 best model saved with accuracy: 75.00%\n",
      "Epoch 4 best model saved with accuracy: 76.28%\n",
      "Epoch 5 best model saved with accuracy: 77.24%\n",
      "Epoch 6 best model saved with accuracy: 78.08%\n",
      "Epoch 7 best model saved with accuracy: 78.90%\n",
      "Epoch 8 best model saved with accuracy: 79.48%\n",
      "Epoch 9 best model saved with accuracy: 79.76%\n",
      "Epoch 10 best model saved with accuracy: 79.90%\n",
      "Epoch 12 best model saved with accuracy: 79.93%\n",
      "Epoch 13 best model saved with accuracy: 79.94%\n",
      "Epoch 18 best model saved with accuracy: 80.28%\n",
      "Epoch 19 best model saved with accuracy: 80.45%\n",
      "Epoch 20 best model saved with accuracy: 80.84%\n",
      "Epoch 23 best model saved with accuracy: 80.87%\n"
     ]
    }
   ],
   "source": [
    "input_dim = 46   \n",
    "hidden_dim = 512\n",
    "layer_dim = 3\n",
    "output_dim = 20\n",
    "seq_dim = 128\n",
    "\n",
    "lr = 0.0005\n",
    "n_epochs = 1000\n",
    "iterations_per_epoch = 500\n",
    "best_acc = 0\n",
    "patience, trials = 100, 0\n",
    "\n",
    "model = LSTMClassifier(input_dim, hidden_dim, layer_dim, output_dim)\n",
    "\n",
    "criterion = nn.CrossEntropyLoss()\n",
    "opt = torch.optim.RMSprop(model.parameters(), lr=lr)\n",
    "\n",
    "print('Start model training')\n",
    "\n",
    "for epoch in range(1, n_epochs + 1):\n",
    "    \n",
    "    for i, (x_batch, y_batch) in enumerate(train_loader):\n",
    "        model.train()\n",
    "\n",
    "        opt.zero_grad()\n",
    "        out = model(x_batch)\n",
    "        loss = criterion(out, y_batch)\n",
    "        loss.backward()\n",
    "        opt.step()\n",
    "    \n",
    "    model.eval()\n",
    "    correct, total = 0, 0\n",
    "    for x_val, y_val in test_loader:\n",
    "        out = model(x_val)\n",
    "        preds = F.log_softmax(out, dim=1).argmax(dim=1)\n",
    "        total += y_val.size(0)\n",
    "        correct += (preds == y_val).sum().item()\n",
    "    \n",
    "    acc = correct / total\n",
    "\n",
    "    if epoch % 500 == 0:\n",
    "        print(f'Epoch: {epoch:3d}. Loss: {loss.item():.4f}. Acc.: {acc:2.2%}')\n",
    "\n",
    "    if acc > best_acc:\n",
    "        trials = 0\n",
    "        best_acc = acc\n",
    "        torch.save(model.state_dict(), 'best.pth')\n",
    "        print(f'Epoch {epoch} best model saved with accuracy: {best_acc:2.2%}')\n",
    "    else:\n",
    "        trials += 1\n",
    "        if trials >= patience:\n",
    "            print(f'Early stopping on epoch {epoch}')\n",
    "            break"
   ]
  }
 ],
 "metadata": {
  "kernelspec": {
   "display_name": "myenv",
   "language": "python",
   "name": "python3"
  },
  "language_info": {
   "codemirror_mode": {
    "name": "ipython",
    "version": 3
   },
   "file_extension": ".py",
   "mimetype": "text/x-python",
   "name": "python",
   "nbconvert_exporter": "python",
   "pygments_lexer": "ipython3",
   "version": "3.9.19"
  }
 },
 "nbformat": 4,
 "nbformat_minor": 2
}
